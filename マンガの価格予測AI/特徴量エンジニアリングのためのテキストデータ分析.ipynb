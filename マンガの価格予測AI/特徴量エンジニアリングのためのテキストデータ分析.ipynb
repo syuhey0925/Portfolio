{
 "cells": [
  {
   "cell_type": "code",
   "execution_count": 1,
   "metadata": {},
   "outputs": [],
   "source": [
    "import pandas as pd\n",
    "import matplotlib.pyplot as plt\n",
    "import re\n",
    "import seaborn as sns\n",
    "import warnings\n",
    "warnings.simplefilter('ignore')\n",
    "import numpy as np"
   ]
  },
  {
   "cell_type": "code",
   "execution_count": 2,
   "metadata": {},
   "outputs": [
    {
     "data": {
      "text/html": [
       "<div>\n",
       "<style scoped>\n",
       "    .dataframe tbody tr th:only-of-type {\n",
       "        vertical-align: middle;\n",
       "    }\n",
       "\n",
       "    .dataframe tbody tr th {\n",
       "        vertical-align: top;\n",
       "    }\n",
       "\n",
       "    .dataframe thead th {\n",
       "        text-align: right;\n",
       "    }\n",
       "</style>\n",
       "<table border=\"1\" class=\"dataframe\">\n",
       "  <thead>\n",
       "    <tr style=\"text-align: right;\">\n",
       "      <th></th>\n",
       "      <th>note</th>\n",
       "      <th>ownerIdentifier</th>\n",
       "      <th>subMaterialIdentifier</th>\n",
       "      <th>name</th>\n",
       "      <th>label</th>\n",
       "      <th>identifier</th>\n",
       "      <th>creator</th>\n",
       "      <th>dcterms:publisher</th>\n",
       "      <th>jpno</th>\n",
       "      <th>ndc</th>\n",
       "      <th>...</th>\n",
       "      <th>originalWorkCreator</th>\n",
       "      <th>contributor</th>\n",
       "      <th>alternativeHeadline</th>\n",
       "      <th>ma:materialIdentifier</th>\n",
       "      <th>dcterms:creator</th>\n",
       "      <th>schema:publisher</th>\n",
       "      <th>price_int</th>\n",
       "      <th>price_tax_info</th>\n",
       "      <th>price_tax_included</th>\n",
       "      <th>price_remarks</th>\n",
       "    </tr>\n",
       "  </thead>\n",
       "  <tbody>\n",
       "    <tr>\n",
       "      <th>0</th>\n",
       "      <td>1977/12/1</td>\n",
       "      <td>2</td>\n",
       "      <td>1</td>\n",
       "      <td>国立国会図書館</td>\n",
       "      <td>NaN</td>\n",
       "      <td>NaN</td>\n",
       "      <td>NaN</td>\n",
       "      <td>NaN</td>\n",
       "      <td>NaN</td>\n",
       "      <td>NaN</td>\n",
       "      <td>...</td>\n",
       "      <td>NaN</td>\n",
       "      <td>NaN</td>\n",
       "      <td>NaN</td>\n",
       "      <td>NaN</td>\n",
       "      <td>NaN</td>\n",
       "      <td>NaN</td>\n",
       "      <td>390</td>\n",
       "      <td>FALSE</td>\n",
       "      <td>NaN</td>\n",
       "      <td>NaN</td>\n",
       "    </tr>\n",
       "    <tr>\n",
       "      <th>1</th>\n",
       "      <td>2012/9/1</td>\n",
       "      <td>2</td>\n",
       "      <td>1</td>\n",
       "      <td>国立国会図書館</td>\n",
       "      <td>NaN</td>\n",
       "      <td>NaN</td>\n",
       "      <td>NaN</td>\n",
       "      <td>NaN</td>\n",
       "      <td>NaN</td>\n",
       "      <td>NaN</td>\n",
       "      <td>...</td>\n",
       "      <td>NaN</td>\n",
       "      <td>NaN</td>\n",
       "      <td>NaN</td>\n",
       "      <td>NaN</td>\n",
       "      <td>NaN</td>\n",
       "      <td>NaN</td>\n",
       "      <td>648</td>\n",
       "      <td>FALSE</td>\n",
       "      <td>NaN</td>\n",
       "      <td>NaN</td>\n",
       "    </tr>\n",
       "    <tr>\n",
       "      <th>2</th>\n",
       "      <td>2009/10/1</td>\n",
       "      <td>2</td>\n",
       "      <td>1</td>\n",
       "      <td>国立国会図書館</td>\n",
       "      <td>NaN</td>\n",
       "      <td>NaN</td>\n",
       "      <td>NaN</td>\n",
       "      <td>NaN</td>\n",
       "      <td>NaN</td>\n",
       "      <td>NaN</td>\n",
       "      <td>...</td>\n",
       "      <td>NaN</td>\n",
       "      <td>NaN</td>\n",
       "      <td>NaN</td>\n",
       "      <td>NaN</td>\n",
       "      <td>NaN</td>\n",
       "      <td>NaN</td>\n",
       "      <td>900</td>\n",
       "      <td>TRUE</td>\n",
       "      <td>FALSE</td>\n",
       "      <td>NaN</td>\n",
       "    </tr>\n",
       "    <tr>\n",
       "      <th>3</th>\n",
       "      <td>2006/8/1</td>\n",
       "      <td>2</td>\n",
       "      <td>1</td>\n",
       "      <td>国立国会図書館</td>\n",
       "      <td>NaN</td>\n",
       "      <td>NaN</td>\n",
       "      <td>NaN</td>\n",
       "      <td>NaN</td>\n",
       "      <td>NaN</td>\n",
       "      <td>NaN</td>\n",
       "      <td>...</td>\n",
       "      <td>NaN</td>\n",
       "      <td>NaN</td>\n",
       "      <td>NaN</td>\n",
       "      <td>NaN</td>\n",
       "      <td>NaN</td>\n",
       "      <td>NaN</td>\n",
       "      <td>476</td>\n",
       "      <td>TRUE</td>\n",
       "      <td>FALSE</td>\n",
       "      <td>NaN</td>\n",
       "    </tr>\n",
       "    <tr>\n",
       "      <th>4</th>\n",
       "      <td>2004/4/1</td>\n",
       "      <td>2</td>\n",
       "      <td>1</td>\n",
       "      <td>国立国会図書館</td>\n",
       "      <td>NaN</td>\n",
       "      <td>NaN</td>\n",
       "      <td>NaN</td>\n",
       "      <td>NaN</td>\n",
       "      <td>NaN</td>\n",
       "      <td>NaN</td>\n",
       "      <td>...</td>\n",
       "      <td>NaN</td>\n",
       "      <td>NaN</td>\n",
       "      <td>NaN</td>\n",
       "      <td>NaN</td>\n",
       "      <td>NaN</td>\n",
       "      <td>NaN</td>\n",
       "      <td>660</td>\n",
       "      <td>TRUE</td>\n",
       "      <td>FALSE</td>\n",
       "      <td>NaN</td>\n",
       "    </tr>\n",
       "  </tbody>\n",
       "</table>\n",
       "<p>5 rows × 39 columns</p>\n",
       "</div>"
      ],
      "text/plain": [
       "        note ownerIdentifier subMaterialIdentifier     name label identifier  \\\n",
       "0  1977/12/1               2                     1  国立国会図書館   NaN        NaN   \n",
       "1   2012/9/1               2                     1  国立国会図書館   NaN        NaN   \n",
       "2  2009/10/1               2                     1  国立国会図書館   NaN        NaN   \n",
       "3   2006/8/1               2                     1  国立国会図書館   NaN        NaN   \n",
       "4   2004/4/1               2                     1  国立国会図書館   NaN        NaN   \n",
       "\n",
       "  creator dcterms:publisher jpno  ndc  ... originalWorkCreator contributor  \\\n",
       "0     NaN               NaN  NaN  NaN  ...                 NaN         NaN   \n",
       "1     NaN               NaN  NaN  NaN  ...                 NaN         NaN   \n",
       "2     NaN               NaN  NaN  NaN  ...                 NaN         NaN   \n",
       "3     NaN               NaN  NaN  NaN  ...                 NaN         NaN   \n",
       "4     NaN               NaN  NaN  NaN  ...                 NaN         NaN   \n",
       "\n",
       "  alternativeHeadline ma:materialIdentifier dcterms:creator schema:publisher  \\\n",
       "0                 NaN                   NaN             NaN              NaN   \n",
       "1                 NaN                   NaN             NaN              NaN   \n",
       "2                 NaN                   NaN             NaN              NaN   \n",
       "3                 NaN                   NaN             NaN              NaN   \n",
       "4                 NaN                   NaN             NaN              NaN   \n",
       "\n",
       "  price_int price_tax_info price_tax_included price_remarks  \n",
       "0       390          FALSE                NaN           NaN  \n",
       "1       648          FALSE                NaN           NaN  \n",
       "2       900           TRUE              FALSE           NaN  \n",
       "3       476           TRUE              FALSE           NaN  \n",
       "4       660           TRUE              FALSE           NaN  \n",
       "\n",
       "[5 rows x 39 columns]"
      ]
     },
     "execution_count": 2,
     "metadata": {},
     "output_type": "execute_result"
    }
   ],
   "source": [
    "df = pd.read_csv(\"C:\\\\Users\\\\syuhe\\\\Downloads\\\\prepared_cm-item-cm101 2.csv\\\\prepared_cm-item-cm101 2.csv\", dtype=str, encoding='cp932')\n",
    "df = df.loc[:, 'note':'price_remarks']\n",
    "df.head()"
   ]
  },
  {
   "cell_type": "code",
   "execution_count": 4,
   "metadata": {},
   "outputs": [
    {
     "data": {
      "text/plain": [
       "21749"
      ]
     },
     "execution_count": 4,
     "metadata": {},
     "output_type": "execute_result"
    }
   ],
   "source": [
    "#外れ値の検討\n",
    "df['price_int'] = df['price_int'].astype(float)\n",
    "df_over = df[df['price_int']>1000]\n",
    "df_over['price_int'].count()\n",
    "#10000円以上の価格のものは価格が破格なので外れ値とする。"
   ]
  },
  {
   "cell_type": "code",
   "execution_count": 6,
   "metadata": {},
   "outputs": [
    {
     "name": "stdout",
     "output_type": "stream",
     "text": [
      "「日本語」を含む行の数: 44061\n",
      "「日本語」を含まない行の数: 15\n"
     ]
    }
   ],
   "source": [
    "df1=df\n",
    "df1.dropna(subset=['inLanguage'], inplace=True)\n",
    "# 「日本語」を含む行と含まない行でカウント\n",
    "contains_japanese = df1['inLanguage'].str.contains('日本語')\n",
    "count_contains_japanese = contains_japanese.sum()\n",
    "count_does_not_contain_japanese = len(df1) - count_contains_japanese\n",
    "\n",
    "print(f'「日本語」を含む行の数: {count_contains_japanese}')\n",
    "print(f'「日本語」を含まない行の数: {count_does_not_contain_japanese}')"
   ]
  },
  {
   "cell_type": "code",
   "execution_count": 7,
   "metadata": {},
   "outputs": [
    {
     "name": "stdout",
     "output_type": "stream",
     "text": [
      "「東京」を含む行の数: 43319\n",
      "「東京」を含まない行の数: 558\n"
     ]
    }
   ],
   "source": [
    "df2=df\n",
    "df2.dropna(subset=['location'], inplace=True)\n",
    "# 「日本語」を含む行と含まない行でカウント\n",
    "contains_japanese = df2['location'].str.contains('東京')\n",
    "count_contains_japanese = contains_japanese.sum()\n",
    "count_does_not_contain_japanese = len(df2) - count_contains_japanese\n",
    "\n",
    "print(f'「東京」を含む行の数: {count_contains_japanese}')\n",
    "print(f'「東京」を含まない行の数: {count_does_not_contain_japanese}')"
   ]
  },
  {
   "cell_type": "code",
   "execution_count": 8,
   "metadata": {},
   "outputs": [
    {
     "name": "stdout",
     "output_type": "stream",
     "text": [
      "<class 'pandas.core.frame.DataFrame'>\n",
      "Index: 43877 entries, 92673 to 385824\n",
      "Data columns (total 39 columns):\n",
      " #   Column                 Non-Null Count  Dtype  \n",
      "---  ------                 --------------  -----  \n",
      " 0   note                   34302 non-null  object \n",
      " 1   ownerIdentifier        0 non-null      object \n",
      " 2   subMaterialIdentifier  0 non-null      object \n",
      " 3   name                   43877 non-null  object \n",
      " 4   label                  43876 non-null  object \n",
      " 5   identifier             43877 non-null  object \n",
      " 6   creator                41895 non-null  object \n",
      " 7   dcterms:publisher      6487 non-null   object \n",
      " 8   jpno                   42146 non-null  object \n",
      " 9   ndc                    41274 non-null  object \n",
      " 10  brand                  41793 non-null  object \n",
      " 11  schema:creator         25574 non-null  object \n",
      " 12  datePublished          43276 non-null  object \n",
      " 13  inLanguage             43877 non-null  object \n",
      " 14  isPartOf               26048 non-null  object \n",
      " 15  isbn                   39813 non-null  object \n",
      " 16  location               43877 non-null  object \n",
      " 17  numberOfPages          43125 non-null  object \n",
      " 18  position               34554 non-null  object \n",
      " 19  provider               43806 non-null  object \n",
      " 20  publisher              39750 non-null  object \n",
      " 21  size                   43857 non-null  object \n",
      " 22  volumeNumber           34222 non-null  object \n",
      " 23  alternateName          2951 non-null   object \n",
      " 24  seriesName             306 non-null    object \n",
      " 25  productID              9543 non-null   object \n",
      " 26  description            4543 non-null   object \n",
      " 27  contentRating          897 non-null    object \n",
      " 28  version                1137 non-null   object \n",
      " 29  originalWorkCreator    486 non-null    object \n",
      " 30  contributor            170 non-null    object \n",
      " 31  alternativeHeadline    0 non-null      object \n",
      " 32  ma:materialIdentifier  0 non-null      object \n",
      " 33  dcterms:creator        16560 non-null  object \n",
      " 34  schema:publisher       7159 non-null   object \n",
      " 35  price_int              43859 non-null  float64\n",
      " 36  price_tax_info         43859 non-null  object \n",
      " 37  price_tax_included     575 non-null    object \n",
      " 38  price_remarks          18 non-null     object \n",
      "dtypes: float64(1), object(38)\n",
      "memory usage: 13.4+ MB\n"
     ]
    }
   ],
   "source": [
    "# すべての情報を表示する\n",
    "pd.set_option('display.max_info_columns', df.shape[1])  # 列数を指定\n",
    "pd.set_option('display.max_info_rows', df.shape[0])  # 行数を指定\n",
    "\n",
    "# DataFrameの情報を表示\n",
    "df.info()"
   ]
  },
  {
   "cell_type": "code",
   "execution_count": 9,
   "metadata": {},
   "outputs": [
    {
     "name": "stdout",
     "output_type": "stream",
     "text": [
      "含まれている行のprice列の平均値: 662.0751148775025\n",
      "含まれていない行のprice列の平均値: 755.0923913043479\n"
     ]
    }
   ],
   "source": [
    "df2.dropna(subset=['price_int'], inplace=True)\n",
    "# 'price_int'列をfloat型に変換\n",
    "df2['price_int'] = df2['price_int'].astype(float)\n",
    "\n",
    "df2['contains_initial'] = df2['location'].str.contains('東京', na=False)\n",
    "# 含まれている行と含まれていない行に分割\n",
    "df_contains_initial = df2[df2['contains_initial']]\n",
    "df_not_contains_initial = df2[~df2['contains_initial']]\n",
    "# NaNを含む行を削除する\n",
    "df_cleaned1 = df_contains_initial.dropna(subset=['contains_initial'])\n",
    "df_cleaned2 = df_not_contains_initial.dropna(subset=['contains_initial'])\n",
    "df_cleaned2 = df_cleaned2.dropna(subset=['price_int'])\n",
    "\n",
    "df_cleaned1['price_int'] = df_cleaned1['price_int'].astype(int)\n",
    "df_cleaned2['price_int'] = df_cleaned2['price_int'].astype(int)\n",
    "\n",
    "\n",
    "# 含まれている行のprice列の平均を計算\n",
    "average_price_contains_initial = df_cleaned1['price_int'].mean()\n",
    "average_price_not_contains_initial = df_cleaned2['price_int'].mean()\n",
    "print(\"含まれている行のprice列の平均値:\", str(average_price_contains_initial))\n",
    "print(\"含まれていない行のprice列の平均値:\", str(average_price_not_contains_initial))"
   ]
  },
  {
   "cell_type": "code",
   "execution_count": 10,
   "metadata": {},
   "outputs": [
    {
     "name": "stdout",
     "output_type": "stream",
     "text": [
      "Wilcoxon Rank Sum Test:\n",
      "Statistic: -4.130132461661876, p-value: 3.6255427939667736e-05\n",
      "群間に統計的に有意な差があると判定されます\n"
     ]
    }
   ],
   "source": [
    "from scipy.stats import ranksums\n",
    "\n",
    "# ウィルコクソンの順位和検定を実行\n",
    "statistic, p_value = ranksums(df_cleaned1['price_int'], df_cleaned2['price_int'])\n",
    "\n",
    "# 結果を表示\n",
    "print(\"Wilcoxon Rank Sum Test:\")\n",
    "print(f\"Statistic: {statistic}, p-value: {p_value}\")\n",
    "\n",
    "# p値を基に結果を判定\n",
    "alpha = 0.05\n",
    "if p_value < alpha:\n",
    "    print(\"群間に統計的に有意な差があると判定されます\")\n",
    "else:\n",
    "    print(\"群間に統計的に有意な差がないと判定されます\")"
   ]
  },
  {
   "cell_type": "code",
   "execution_count": 11,
   "metadata": {},
   "outputs": [
    {
     "name": "stdout",
     "output_type": "stream",
     "text": [
      "欠損値の数: 42723\n",
      "欠損値でない値の数: 1136\n"
     ]
    }
   ],
   "source": [
    "# 'version'列の欠損値の数をカウント\n",
    "missing_count = df['version'].isnull().sum()\n",
    "\n",
    "# 'version'列の欠損値でない値の数をカウント\n",
    "non_missing_count = df['version'].notnull().sum()\n",
    "\n",
    "print(\"欠損値の数:\", missing_count)\n",
    "print(\"欠損値でない値の数:\", non_missing_count)"
   ]
  },
  {
   "cell_type": "code",
   "execution_count": 12,
   "metadata": {},
   "outputs": [
    {
     "name": "stdout",
     "output_type": "stream",
     "text": [
      "欠損値を含む行の平均: 648.0093392317955\n",
      "欠損値を含まない行の平均: 1236.2632042253522\n"
     ]
    }
   ],
   "source": [
    "# 'price_int'列をfloat型に変換\n",
    "df['price_int'] = df['price_int'].astype(float)\n",
    "\n",
    "# 欠損値とそうでない値で行を分けて、それぞれの平均を求める\n",
    "mean_with_nan = df[df['version'].isna()]['price_int'].mean()\n",
    "mean_without_nan = df[df['version'].notna()]['price_int'].mean()\n",
    "\n",
    "print(\"欠損値を含む行の平均:\", mean_with_nan)\n",
    "print(\"欠損値を含まない行の平均:\", mean_without_nan)"
   ]
  },
  {
   "cell_type": "code",
   "execution_count": 13,
   "metadata": {},
   "outputs": [
    {
     "data": {
      "image/png": "[encoded data removed]",
      "text/plain": [
       "<Figure size 1000x600 with 1 Axes>"
      ]
     },
     "metadata": {},
     "output_type": "display_data"
    }
   ],
   "source": [
    "#訓練データ関して\n",
    "plt.figure(figsize=(10, 6))\n",
    "plt.hist(df['price_int'],bins=100)\n",
    "plt.show()"
   ]
  },
  {
   "cell_type": "code",
   "execution_count": 14,
   "metadata": {},
   "outputs": [
    {
     "data": {
      "text/plain": [
       "50"
      ]
     },
     "execution_count": 14,
     "metadata": {},
     "output_type": "execute_result"
    }
   ],
   "source": [
    "#外れ値の検討\n",
    "train_over = df[df['price_int']>5000]\n",
    "train_over['price_int'].count()"
   ]
  },
  {
   "cell_type": "code",
   "execution_count": 15,
   "metadata": {},
   "outputs": [
    {
     "name": "stdout",
     "output_type": "stream",
     "text": [
      "国立国会図書館の数: 0\n",
      "それ以外の数: 43859\n"
     ]
    }
   ],
   "source": [
    "# 'name'列の値が「国立国会図書館」である行をフィルタリングし、その数をカウント\n",
    "national_library_count = (df['name'] == '国立国会図書館').sum()\n",
    "\n",
    "# 'name'列の値が「国立国会図書館」でない行をフィルタリングし、その数をカウント\n",
    "non_national_library_count = (df['name'] != '国立国会図書館').sum()\n",
    "\n",
    "print(\"国立国会図書館の数:\", national_library_count)\n",
    "print(\"それ以外の数:\", non_national_library_count)"
   ]
  },
  {
   "cell_type": "code",
   "execution_count": 16,
   "metadata": {},
   "outputs": [
    {
     "name": "stdout",
     "output_type": "stream",
     "text": [
      "国立国会図書館の場合の平均価格: nan\n",
      "その他の場合の平均価格: 663.2458104379945\n"
     ]
    }
   ],
   "source": [
    "df['price_int'] = df['price_int'].astype(float)\n",
    "\n",
    "# name列が「国立国会図書館」かどうかを判定し、結果をブール値で持つ新しい列を追加\n",
    "df['is_national_library'] = df['name'] == '国立国会図書館'\n",
    "\n",
    "# is_national_library列の値に基づいてprice_int列の平均を計算\n",
    "avg_price_national_library = df[df['is_national_library']]['price_int'].mean()\n",
    "avg_price_other = df[~df['is_national_library']]['price_int'].mean()\n",
    "\n",
    "print(\"国立国会図書館の場合の平均価格:\", avg_price_national_library)\n",
    "print(\"その他の場合の平均価格:\", avg_price_other)"
   ]
  },
  {
   "cell_type": "code",
   "execution_count": 17,
   "metadata": {},
   "outputs": [],
   "source": [
    "# name列ごとの出現回数を計算\n",
    "name_counts = df['name'].value_counts()\n",
    "\n",
    "# 出現回数が1000以上のnameを取得\n",
    "valid_names = name_counts[name_counts >= 1000].index\n",
    "\n",
    "# 条件を満たすnameごとにprice_int列の平均を計算\n",
    "average_prices = {}\n",
    "for name in valid_names:\n",
    "    avg_price = df[df['name'] == name]['price_int'].mean()\n",
    "    average_prices[name] = avg_price\n",
    "\n",
    "# 結果を表示\n",
    "for name, avg_price in average_prices.items():\n",
    "    print(f\"{name}: 平均価格 = {avg_price}\")"
   ]
  },
  {
   "cell_type": "code",
   "execution_count": 18,
   "metadata": {},
   "outputs": [
    {
     "name": "stdout",
     "output_type": "stream",
     "text": [
      "特定の文字列を含む行の数: 32816\n",
      "特定の文字列を含まない行の数: 11043\n"
     ]
    }
   ],
   "source": [
    "# 'note'列に特定の文字列を含む行の数をカウント\n",
    "contains_count = df[df['note'].str.contains('NDC（9版）はNDC（10版）を自動変換した値である', na=False)].shape[0]\n",
    "\n",
    "# 'note'列に特定の文字列を含まない行の数をカウント\n",
    "not_contains_count = df[~df['note'].str.contains('NDC（9版）はNDC（10版）を自動変換した値である', na=False)].shape[0]\n",
    "\n",
    "print(\"特定の文字列を含む行の数:\", contains_count)\n",
    "print(\"特定の文字列を含まない行の数:\", not_contains_count)"
   ]
  }
 ],
 "metadata": {
  "kernelspec": {
   "display_name": "Python 3",
   "language": "python",
   "name": "python3"
  },
  "language_info": {
   "codemirror_mode": {
    "name": "ipython",
    "version": 3
   },
   "file_extension": ".py",
   "mimetype": "text/x-python",
   "name": "python",
   "nbconvert_exporter": "python",
   "pygments_lexer": "ipython3",
   "version": "3.12.1"
  }
 },
 "nbformat": 4,
 "nbformat_minor": 2
}
